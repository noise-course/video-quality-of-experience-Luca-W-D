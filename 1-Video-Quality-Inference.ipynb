{
 "cells": [
  {
   "cell_type": "markdown",
   "metadata": {
    "colab_type": "text",
    "id": "zbGBJegvBuXV"
   },
   "source": [
    "# Assignment: Video Quality Inference\n",
    "\n",
    "To this point in the class, you have learned various techniques for leading and analyzing packet captures of various types, generating features from those packet captures, and training and evaluating models using those features.\n",
    "\n",
    "In this assignment, you will put all of this together, using a network traffic trace to train a model to automatically infer video quality of experience from a labeled traffic trace."
   ]
  },
  {
   "cell_type": "code",
   "execution_count": 334,
   "metadata": {},
   "outputs": [],
   "source": [
    "# Setup\n",
    "import pandas as pd\n",
    "import numpy as np\n",
    "from netml.pparser.parser import PCAP\n",
    "from collections import defaultdict\n",
    "from datetime import datetime, timedelta\n",
    "import pickle\n",
    "import math\n",
    "from sklearn.metrics import accuracy_score, f1_score, confusion_matrix,ConfusionMatrixDisplay, roc_curve, roc_auc_score\n",
    "from sklearn.model_selection import train_test_split\n",
    "from sklearn.ensemble import RandomForestRegressor, RandomForestClassifier\n",
    "import random\n",
    "from matplotlib import pyplot as plt\n",
    "pd.set_option('display.max_rows', 100)"
   ]
  },
  {
   "cell_type": "markdown",
   "metadata": {},
   "source": [
    "## Part 1: Warmup\n",
    "\n",
    "The first part of this assignment builds directly on the hands-on activities but extends them slightly.\n",
    "\n",
    "### Extract Features from the Network Traffic\n",
    "\n",
    "Load the `netflix.pcap` file, which is a packet trace that includes network traffic. \n",
    "\n",
    "Click [here](https://github.com/noise-lab/ml-systems/blob/main/docs/notebooks/data/netflix.pcap) to download `netflix.pcap`."
   ]
  },
  {
   "cell_type": "code",
   "execution_count": 11,
   "metadata": {},
   "outputs": [],
   "source": [
    "pcap_raw = PCAP('./data/netflix.pcap')\n",
    "pcap_raw.pcap2pandas()\n",
    "pcap_df = pcap_raw.df"
   ]
  },
  {
   "cell_type": "markdown",
   "metadata": {
    "colab_type": "text",
    "id": "TOPPsKpYB6PS"
   },
   "source": [
    "### Identifying the Service Type\n",
    "\n",
    "Use the DNS traffic to filter the packet trace for Netflix traffic."
   ]
  },
  {
   "cell_type": "markdown",
   "metadata": {},
   "source": [
    "<font color=\"green\">**I noticed that the PCAP when stored as a CSV does not have the IP addresses of the source and destination. This means that the DNS queries are insufficient to filter the addresses. Instead, I performed my analysis on the raw pcap, since we can filter the source / destination of those IPs.**</font>\n",
    "\n",
    "<font color=\"green\">We care about the data in `dns_query` and `dns_resp`. These are stored as tuples, likely because DNS queries can have multiple queries URLs per request. Let's check if that's actually happening in this pcap, or if we can just reduce them both to single strings. </color>"
   ]
  },
  {
   "cell_type": "code",
   "execution_count": 12,
   "metadata": {},
   "outputs": [
    {
     "name": "stdout",
     "output_type": "stream",
     "text": [
      "1\n",
      "1\n"
     ]
    }
   ],
   "source": [
    "print(max(pcap_df[\"dns_query\"].map(lambda tup: 0 if not tup else len(tup))))\n",
    "print(max(pcap_df[\"dns_resp\"].map(lambda tup: 0 if not tup else len(tup))))"
   ]
  },
  {
   "cell_type": "markdown",
   "metadata": {},
   "source": [
    "<font color=\"green\">They are all length 1, so let's select all resolved DNS queries and create columns for their URL queried and the IP response</font>"
   ]
  },
  {
   "cell_type": "code",
   "execution_count": 13,
   "metadata": {},
   "outputs": [],
   "source": [
    "dns_queries = pcap_df[pcap_df[\"is_dns\"] & (pcap_df[\"dns_resp\"].notnull())].copy()\n",
    "dns_queries[\"query_url\"] = dns_queries[\"dns_query\"].map(lambda tup: tup[0])\n",
    "dns_queries[\"query_resp\"] = dns_queries[\"dns_resp\"].map(lambda tup: tup[0])"
   ]
  },
  {
   "cell_type": "markdown",
   "metadata": {},
   "source": [
    "<font color=\"green\">Now we can just filter from those of Netflix (from associated IPs) and filter the responses</font>"
   ]
  },
  {
   "cell_type": "code",
   "execution_count": 17,
   "metadata": {},
   "outputs": [
    {
     "name": "stdout",
     "output_type": "stream",
     "text": [
      "Found 138633 netflix packets (filtering removed 2838 non-netflix packets)\n"
     ]
    }
   ],
   "source": [
    "# Prompt => Formalize the pseudocode into a pandas df query\n",
    "# target_domains = [\"nflxvideo\", \"netflix\", \"nflxso\", \"nflxext\"]\n",
    "# pdf[pdf[\"is_dns\"] & (one of target_domains in pdf[\"dns_query\"]])\n",
    "target_domains = [\"nflxvideo\", \"netflix\", \"nflxso\", \"nflxext\"]\n",
    "filtered_dns_queries = dns_queries[dns_queries[\"query_url\"].str.contains(\"|\".join(target_domains), na=False)]\n",
    "all_netflix_ips=set(filtered_dns_queries[\"query_resp\"])\n",
    "only_netflix_traffic = pcap_df[pcap_df[\"ip_dst\"].isin(all_netflix_ips) | pcap_df[\"ip_src\"].isin(all_netflix_ips)]\n",
    "print(f\"Found {len(only_netflix_traffic)} netflix packets (filtering removed {len(pcap_df) - len(only_netflix_traffic)} non-netflix packets)\")"
   ]
  },
  {
   "cell_type": "markdown",
   "metadata": {
    "colab_type": "text",
    "id": "0qFV6q2OCCsK"
   },
   "source": [
    "### Generate Statistics\n",
    "\n",
    "Generate statistics and features for the Netflix traffic flows. Use the `netml` library or any other technique that you choose to generate a set of features that you think would be good features for your model. \n",
    "\n",
    "<font color=\"green\">**Theory 1**\n",
    "Although the data inside the packets is encrypted and thus unreadable, the resolution will directly correlate to the amount of bytes transmitted from the server to the client. Since the number of bytes sent is visible, we can use this as a proxy for resolution. I'm currently in Math of ML, and we actually used linear regression as a classifier in a similar context: if we have our linear regression model output a number that's proportional to the magnitude of data sent to and from a server, we can classify the resolution in scaled buckets. We can also consider non-linear relationships through data transformation. I tried both logging and exponentiating the outputs, reflecting the non-linear relationship between resolution and bytes transmitted per unit of time.</font>\n",
    "\n",
    "<font color=\"green\">**Theory 2 (post-hoc...)**\n",
    "I found that this model was inaccurate for very low / high resolutions. This is likely because the 480p and 1080p resolutions used may happen in bursts. Even if someone is streaming at 720p consistently and a network event happens that causes them to buffer slightly less data, then the drop to 480p may not be wholly reflected in the number of bytes transmitted. Therefore, I also considered other features such as bytes in flight and number of parallel connections: although these inform resolution, they aren't directly related to a single output metric of \"bytes per second.\" Therefore I chose a different classifier model, random forests, to reflect these other relationships.</font>\n",
    "\n",
    "<font color=\"green\">In order to calculate statistics about the flows, we first need to split the packets into different flows. I will maintain (peer ip) => flows[] which are separated by durations of >10 seconds or more</font>"
   ]
  },
  {
   "cell_type": "code",
   "execution_count": 52,
   "metadata": {},
   "outputs": [],
   "source": [
    "PCAP_HOST = \"192.168.43.72\"\n",
    "SEP_TIME = 30 # seconds\n",
    "\n",
    "pcap_df[\"peer\"] = np.where(pcap_df[\"ip_src\"] == PCAP_HOST, pcap_df[\"ip_dst\"], pcap_df[\"ip_src\"])\n",
    "pcap_df[\"down\"] = pcap_df[\"ip_dst\"] == PCAP_HOST\n",
    "\n",
    "flows = defaultdict(list)\n",
    "\n",
    "for idx, row in pcap_df.iterrows():\n",
    "    peer = row[\"peer\"]\n",
    "    if not flows[peer]:\n",
    "        flows[peer].append([row])\n",
    "    else:\n",
    "        last = flows[peer][-1][-1]\n",
    "        if row[\"time\"] - last[\"time\"] < SEP_TIME:\n",
    "            flows[peer][-1].append(row)\n",
    "        else:\n",
    "            flows[peer].append([row])"
   ]
  },
  {
   "cell_type": "markdown",
   "metadata": {},
   "source": [
    "<font color=\"green\">Now we can iterate over the flows (which are in a form more similar to what we will run our analysis on</font>"
   ]
  },
  {
   "cell_type": "code",
   "execution_count": 66,
   "metadata": {},
   "outputs": [],
   "source": [
    "import pandas as pd\n",
    "\n",
    "records = []\n",
    "\n",
    "for peer, list_of_flows in flows.items():\n",
    "    for flow_packets in list_of_flows:\n",
    "        if not flow_packets:\n",
    "            continue\n",
    "    \n",
    "        n_packets = len(flow_packets)\n",
    "        total_bytes = sum(p[\"length\"] for p in flow_packets)\n",
    "        bytes_down = sum(p[\"length\"] for p in flow_packets if p[\"down\"])\n",
    "        bytes_up = total_bytes - bytes_down\n",
    "        n_down = sum(1 for p in flow_packets if p[\"down\"])\n",
    "        n_up = n_packets - n_down\n",
    "    \n",
    "        start = flow_packets[0][\"time\"]\n",
    "        end = flow_packets[-1][\"time\"]\n",
    "        duration = max(end - start, 1)  # avoid division by zero\n",
    "    \n",
    "        bitrate_down = bytes_down * 8 / duration  # bits per second\n",
    "        bitrate_up = bytes_up * 8 / duration\n",
    "    \n",
    "        records.append({\n",
    "            \"peer\": peer,\n",
    "            \"total_bytes\": total_bytes,\n",
    "            \"bytes_up\": bytes_up,\n",
    "            \"bytes_down\": bytes_down,\n",
    "            \"n_packets\": n_packets,\n",
    "            \"n_up\": n_up,\n",
    "            \"n_down\": n_down,\n",
    "            \"bitrate_up\": bitrate_up,\n",
    "            \"bitrate_down\": bitrate_down,\n",
    "            \"duration\": duration,\n",
    "        })\n",
    "\n",
    "flows_df = pd.DataFrame(records)"
   ]
  },
  {
   "cell_type": "markdown",
   "metadata": {},
   "source": [
    "Finally, we can consider the distributions of these features statistically and visually"
   ]
  },
  {
   "cell_type": "code",
   "execution_count": 67,
   "metadata": {},
   "outputs": [
    {
     "name": "stdout",
     "output_type": "stream",
     "text": [
      "\n",
      " count    1.320000e+02\n",
      "mean     1.600845e+05\n",
      "std      1.676556e+06\n",
      "min      4.600000e+01\n",
      "25%      1.200000e+02\n",
      "50%      4.010000e+02\n",
      "75%      2.684000e+03\n",
      "max      1.925861e+07\n",
      "Name: total_bytes, dtype: float64\n",
      "\n",
      " count    1.320000e+02\n",
      "mean     2.834036e+04\n",
      "std      2.840745e+05\n",
      "min      0.000000e+00\n",
      "25%      9.000000e+01\n",
      "50%      2.460000e+02\n",
      "75%      1.733500e+03\n",
      "max      3.263517e+06\n",
      "Name: bytes_up, dtype: float64\n",
      "\n",
      " count    1.320000e+02\n",
      "mean     1.317442e+05\n",
      "std      1.392500e+06\n",
      "min      0.000000e+00\n",
      "25%      0.000000e+00\n",
      "50%      6.600000e+01\n",
      "75%      9.995000e+02\n",
      "max      1.599510e+07\n",
      "Name: bytes_down, dtype: float64\n",
      "\n",
      " count       132.000000\n",
      "mean       1071.750000\n",
      "std       11141.590908\n",
      "min           1.000000\n",
      "25%           2.000000\n",
      "50%           4.000000\n",
      "75%          24.000000\n",
      "max      127986.000000\n",
      "Name: n_packets, dtype: float64\n",
      "\n",
      " count     132.0\n",
      "unique     93.0\n",
      "top       432.0\n",
      "freq       18.0\n",
      "Name: bitrate_up, dtype: float64\n"
     ]
    }
   ],
   "source": [
    "for feat in [\"total_bytes\", \"bytes_up\", \"bytes_down\", \"n_packets\", \"bitrate_up\"]:\n",
    "    print(\"\\n\",flows_df[feat].describe())"
   ]
  },
  {
   "cell_type": "code",
   "execution_count": 71,
   "metadata": {},
   "outputs": [
    {
     "data": {
      "image/png": "[encoded data removed]",
      "text/plain": [
       "<Figure size 640x480 with 1 Axes>"
      ]
     },
     "metadata": {},
     "output_type": "display_data"
    }
   ],
   "source": [
    "import matplotlib.pyplot as plt\n",
    "\n",
    "plt.hist(\n",
    "    [flows_df[\"bytes_up\"] / flows_df[\"duration\"], flows_df[\"bytes_down\"] / flows_df[\"duration\"]],\n",
    "    bins=50,\n",
    "    range=(0, 2000),\n",
    "    stacked=True,\n",
    "    label=[\"Up\", \"Down\"],\n",
    ")\n",
    "plt.xlabel(\"Bytes per flow\")\n",
    "plt.ylabel(\"Count\")\n",
    "plt.legend()\n",
    "plt.show()"
   ]
  },
  {
   "cell_type": "markdown",
   "metadata": {
    "colab_type": "text",
    "id": "0qFV6q2OCCsK"
   },
   "source": [
    "**Write a brief justification for the features that you have chosen.**"
   ]
  },
  {
   "cell_type": "markdown",
   "metadata": {},
   "source": [
    "<font color=\"green\">I justified the features that relate to the number of bytes transmitted in the section above. However, I ultimately found that this collection was insufficient. Instead, I'll justify why I added \"bytes in flight\" and \"parallel flows.</font>\n",
    "\n",
    "<font color=\"green\">First, I found that the linear regression model failed to accurately predict when resolution was very low, e.g. 480p. I theorize that this is likely because most connections have the bandwidth for 720p and therefore request the larger format. Instead, temporary network issues such as misrouted packets or high latency delays their display. In this case, the bandwidth is still high, but the actual experience is lower. The number of packets in flight reflects these issues, helping prediction accuracy. Similarly, the client will react to changes in resolution by preparing appropriate network infrastructure: for example, opening additional parallel connections.</font>"
   ]
  },
  {
   "cell_type": "markdown",
   "metadata": {
    "colab_type": "text",
    "id": "lBCP_2SBC2xj"
   },
   "source": [
    "### Inferring Segment downloads\n",
    "\n",
    "In addition to the features that you could generate using the `netml` library or similar, add to your feature vector a \"segment downloads rate\" feature, which indicates the number of video segments downloaded for a given time window.\n",
    "\n",
    "Note: If you are using the `netml` library, generating features with `SAMP` style options may be useful, as this option gives you time windows, and you can then simply add the segment download rate to that existing dataframe."
   ]
  },
  {
   "cell_type": "code",
   "execution_count": 80,
   "metadata": {},
   "outputs": [],
   "source": [
    "flow_sessions = [] \n",
    "\n",
    "for peer, list_of_flows in flows.items():\n",
    "    for flow_packets in list_of_flows:\n",
    "        lastTime = flow_packets[0][\"time\"]\n",
    "        n_sessions = 1\n",
    "        for i in range(1, len(flow_packets)):\n",
    "            packet_time = flow_packets[i][\"time\"]\n",
    "            if packet_time - lastTime > 1:\n",
    "                n_sessions += 1\n",
    "            lastTime = packet_time\n",
    "        flow_sessions.append(n_sessions)\n",
    "    \n",
    "flows_df[\"segments\"] = pd.Series(flow_sessions)\n",
    "flows_df[\"segments_per_s\"] = pd.Series(flow_sessions) / flows_df[\"duration\"]"
   ]
  },
  {
   "cell_type": "code",
   "execution_count": 81,
   "metadata": {},
   "outputs": [
    {
     "data": {
      "text/html": [
       "<div>\n",
       "<style scoped>\n",
       "    .dataframe tbody tr th:only-of-type {\n",
       "        vertical-align: middle;\n",
       "    }\n",
       "\n",
       "    .dataframe tbody tr th {\n",
       "        vertical-align: top;\n",
       "    }\n",
       "\n",
       "    .dataframe thead th {\n",
       "        text-align: right;\n",
       "    }\n",
       "</style>\n",
       "<table border=\"1\" class=\"dataframe\">\n",
       "  <thead>\n",
       "    <tr style=\"text-align: right;\">\n",
       "      <th></th>\n",
       "      <th>peer</th>\n",
       "      <th>total_bytes</th>\n",
       "      <th>bytes_up</th>\n",
       "      <th>bytes_down</th>\n",
       "      <th>n_packets</th>\n",
       "      <th>n_up</th>\n",
       "      <th>n_down</th>\n",
       "      <th>bitrate_up</th>\n",
       "      <th>bitrate_down</th>\n",
       "      <th>duration</th>\n",
       "      <th>segments</th>\n",
       "      <th>segments_per_s</th>\n",
       "    </tr>\n",
       "  </thead>\n",
       "  <tbody>\n",
       "    <tr>\n",
       "      <th>0</th>\n",
       "      <td>128.93.77.234</td>\n",
       "      <td>4791</td>\n",
       "      <td>2188</td>\n",
       "      <td>2603</td>\n",
       "      <td>52</td>\n",
       "      <td>26</td>\n",
       "      <td>26</td>\n",
       "      <td>862.8763992656874518132038230</td>\n",
       "      <td>1026.538970424398737234812409</td>\n",
       "      <td>20.285640</td>\n",
       "      <td>3</td>\n",
       "      <td>0.1478878655048595952604896863</td>\n",
       "    </tr>\n",
       "    <tr>\n",
       "      <th>1</th>\n",
       "      <td>128.93.77.234</td>\n",
       "      <td>208</td>\n",
       "      <td>99</td>\n",
       "      <td>109</td>\n",
       "      <td>2</td>\n",
       "      <td>1</td>\n",
       "      <td>1</td>\n",
       "      <td>792.0</td>\n",
       "      <td>872.0</td>\n",
       "      <td>1</td>\n",
       "      <td>1</td>\n",
       "      <td>1.0</td>\n",
       "    </tr>\n",
       "    <tr>\n",
       "      <th>2</th>\n",
       "      <td>128.93.77.234</td>\n",
       "      <td>424</td>\n",
       "      <td>220</td>\n",
       "      <td>204</td>\n",
       "      <td>5</td>\n",
       "      <td>3</td>\n",
       "      <td>2</td>\n",
       "      <td>431.2777313419084088620712554</td>\n",
       "      <td>399.9120781534059791266478914</td>\n",
       "      <td>4.080897</td>\n",
       "      <td>4</td>\n",
       "      <td>0.9801766621407009292319801259</td>\n",
       "    </tr>\n",
       "    <tr>\n",
       "      <th>3</th>\n",
       "      <td>128.93.77.234</td>\n",
       "      <td>2180</td>\n",
       "      <td>1188</td>\n",
       "      <td>992</td>\n",
       "      <td>24</td>\n",
       "      <td>15</td>\n",
       "      <td>9</td>\n",
       "      <td>184.9053534204931980647429052</td>\n",
       "      <td>154.3990829908495391247684865</td>\n",
       "      <td>51.399269</td>\n",
       "      <td>10</td>\n",
       "      <td>0.1945552961074212942600409356</td>\n",
       "    </tr>\n",
       "    <tr>\n",
       "      <th>4</th>\n",
       "      <td>128.93.77.234</td>\n",
       "      <td>982</td>\n",
       "      <td>422</td>\n",
       "      <td>560</td>\n",
       "      <td>9</td>\n",
       "      <td>5</td>\n",
       "      <td>4</td>\n",
       "      <td>549.4557360997952235760779732</td>\n",
       "      <td>729.1355739712922398165963626</td>\n",
       "      <td>6.144262</td>\n",
       "      <td>5</td>\n",
       "      <td>0.8137673816643886605095941547</td>\n",
       "    </tr>\n",
       "  </tbody>\n",
       "</table>\n",
       "</div>"
      ],
      "text/plain": [
       "            peer  total_bytes  bytes_up  bytes_down  n_packets  n_up  n_down  \\\n",
       "0  128.93.77.234         4791      2188        2603         52    26      26   \n",
       "1  128.93.77.234          208        99         109          2     1       1   \n",
       "2  128.93.77.234          424       220         204          5     3       2   \n",
       "3  128.93.77.234         2180      1188         992         24    15       9   \n",
       "4  128.93.77.234          982       422         560          9     5       4   \n",
       "\n",
       "                      bitrate_up                   bitrate_down   duration  \\\n",
       "0  862.8763992656874518132038230  1026.538970424398737234812409  20.285640   \n",
       "1                          792.0                          872.0          1   \n",
       "2  431.2777313419084088620712554  399.9120781534059791266478914   4.080897   \n",
       "3  184.9053534204931980647429052  154.3990829908495391247684865  51.399269   \n",
       "4  549.4557360997952235760779732  729.1355739712922398165963626   6.144262   \n",
       "\n",
       "   segments                  segments_per_s  \n",
       "0         3  0.1478878655048595952604896863  \n",
       "1         1                             1.0  \n",
       "2         4  0.9801766621407009292319801259  \n",
       "3        10  0.1945552961074212942600409356  \n",
       "4         5  0.8137673816643886605095941547  "
      ]
     },
     "execution_count": 81,
     "metadata": {},
     "output_type": "execute_result"
    }
   ],
   "source": [
    "flows_df.head()"
   ]
  },
  {
   "cell_type": "markdown",
   "metadata": {},
   "source": [
    "## Part 2: Video Quality Inference\n",
    "\n",
    "You will now load the complete video dataset from a previous study to train and test models based on these features to automatically infer the quality of a streaming video flow.\n",
    "\n",
    "For this part of the assignment, you will need two pickle files, which we provide for you by running the code below:\n",
    "\n",
    "```\n",
    "\n",
    "!gdown 'https://drive.google.com/uc?id=1N-Cf4dJ3fpak_AWgO05Fopq_XPYLVqdS' -O netflix_session.pkl\n",
    "!gdown 'https://drive.google.com/uc?id=1PHvEID7My6VZXZveCpQYy3lMo9RvMNTI' -O video_dataset.pkl\n",
    "\n",
    "```"
   ]
  },
  {
   "cell_type": "markdown",
   "metadata": {},
   "source": [
    "### Load the File\n",
    "\n",
    "Load the video dataset pickle file."
   ]
  },
  {
   "cell_type": "code",
   "execution_count": 85,
   "metadata": {},
   "outputs": [
    {
     "name": "stderr",
     "output_type": "stream",
     "text": [
      "/var/folders/p0/_ct_jyjj3551ph0y5rt2wbhc0000gn/T/ipykernel_43512/1684216388.py:3: DeprecationWarning: numpy.core.numeric is deprecated and has been renamed to numpy._core.numeric. The numpy._core namespace contains private NumPy internals and its use is discouraged, as NumPy internals can change without warning in any release. In practice, most real-world usage of numpy.core is to access functionality in the public NumPy API. If that is the case, use the public NumPy API. If not, you are using NumPy internals. If you would still like to access an internal attribute, use numpy._core.numeric._frombuffer.\n",
      "  labeled_ds = pickle.load(file)\n"
     ]
    }
   ],
   "source": [
    "labeled_ds = None\n",
    "with open(\"./data/netflix_dataset.pkl\", 'rb') as file:\n",
    "    labeled_ds = pickle.load(file)"
   ]
  },
  {
   "cell_type": "markdown",
   "metadata": {},
   "source": [
    "### Clean the File\n",
    "\n",
    "1. The dataset contains video resolutions that are not valid. Remove entries in the dataset that do not contain a valid video resolution. Valid resolutions are 240, 360, 480, 720, 1080."
   ]
  },
  {
   "cell_type": "code",
   "execution_count": 95,
   "metadata": {},
   "outputs": [],
   "source": [
    "labeled_ds = labeled_ds[labeled_ds[\"resolution\"].isin([240,360,480,720,1080])]"
   ]
  },
  {
   "cell_type": "markdown",
   "metadata": {},
   "source": [
    "2. The file also contains columns that are unnecessary (in fact, unhelpful!) for performing predictions. Identify those columns, and remove them."
   ]
  },
  {
   "cell_type": "markdown",
   "metadata": {},
   "source": [
    "<span style=\"color: green\">\n",
    "I found that the majority of the columns included would not be applicable to a prediction context. Many included outcome variables (e.g. prediction) or represented vague metrics. I looked through the column list (below) and noted why I chose to exclude different subsets\n",
    "</span>"
   ]
  },
  {
   "cell_type": "code",
   "execution_count": 121,
   "metadata": {},
   "outputs": [
    {
     "data": {
      "text/plain": [
       "['10_EWMA_chunksizes', '10_avg_chunksize', '10_chunksizes_50']"
      ]
     },
     "execution_count": 121,
     "metadata": {},
     "output_type": "execute_result"
    }
   ],
   "source": [
    "list(labeled_ds.columns)[:3] # I examined all but wanted to truncate output for sake of you scrolling"
   ]
  },
  {
   "cell_type": "markdown",
   "metadata": {},
   "source": [
    "**Briefly explain why you removed those columns.**"
   ]
  },
  {
   "cell_type": "markdown",
   "metadata": {},
   "source": [
    "<span style=\"color: green;\">\n",
    "\n",
    "* Unclear purpose / data\n",
    "  - Access_* (not clear what this meant)  \n",
    "  - n_bitrate_switches (what classifies as a bitrate switch?)  \n",
    "  - wireless_* (not clear what this meant)\n",
    "\n",
    "\n",
    "* Encourages over-fitting\n",
    "\n",
    "  * deployment_id  \n",
    "  * home_id  \n",
    "  * index\n",
    "\n",
    "\n",
    "* No information (all same value)\n",
    "\n",
    "  * is_tcp\n",
    "\n",
    "\n",
    "* Not accessible via PCAP (requires external data)\n",
    "\n",
    "  * number rebufferings  \n",
    "  * quality  \n",
    "  * service video vs. non-video (how would you know?)  \n",
    "  * startup time  \n",
    "  * video_*  \n",
    "  * server_*\n",
    "\n",
    "\n",
    "* Not applicable to mental model of the problem\n",
    "\n",
    "  * Chunk size: although I'm constrained by domain knowledge, I couldn't find evidence that this should  \n",
    "    change in response to switches in resolution  \n",
    "\n",
    "</span>\n"
   ]
  },
  {
   "cell_type": "markdown",
   "metadata": {},
   "source": [
    "<span style=\"color:green;\">\n",
    "After these changes, I focused on the following features:\n",
    "    \n",
    " * iat, flow age, total bytes sent, n packets, n packets up / down, up / down ratio, timestamp (for rate calculations)\n",
    "</span>"
   ]
  },
  {
   "cell_type": "markdown",
   "metadata": {},
   "source": [
    "### Prepare Your Data\n",
    "\n",
    "Prepare your data matrix, determine your features and labels, and perform a train-test split on your data."
   ]
  },
  {
   "cell_type": "code",
   "execution_count": 134,
   "metadata": {},
   "outputs": [],
   "source": [
    "previous = {}  # session_id -> (last_relative_timestamp, last_bitrate)\n",
    "past_bitrates = []\n",
    "chunk_iats = []\n",
    "\n",
    "for _, row in labeled_ds.iterrows():\n",
    "    session_id = row[\"session_id\"]\n",
    "    rel_ts = row[\"relative_timestamp\"]\n",
    "    bitrate = row[\"bitrate\"]\n",
    "\n",
    "    if session_id in previous:\n",
    "        prev_ts, prev_bitrate = previous[session_id]\n",
    "        past_bitrates.append(prev_bitrate)\n",
    "        chunk_iats.append(rel_ts - prev_ts)\n",
    "    else:\n",
    "        past_bitrates.append(0)\n",
    "        chunk_iats.append(0)\n",
    "\n",
    "    previous[session_id] = (rel_ts, bitrate)\n",
    "\n",
    "labeled_ds[\"previous_bitrate\"] = past_bitrates\n",
    "labeled_ds[\"current_chunk_iat\"] = chunk_iats"
   ]
  },
  {
   "cell_type": "markdown",
   "metadata": {},
   "source": [
    "<span style=\"color: green\">\n",
    "I am interested in the rate at which bytes are transferred. I first chose features related to this concept.\n",
    "</span>"
   ]
  },
  {
   "cell_type": "code",
   "execution_count": 294,
   "metadata": {},
   "outputs": [],
   "source": [
    "non_empty_df = labeled_ds.dropna()\n",
    "chosen_feature_names = [\"avg_flow_age\", \"bitrate\", \"current_chunk_iat\", \"n_chunks_up\", \"n_chunks_down\", \"previous_bitrate\", \"total_throughput_up\", \"total_throughput_down\", \"relative_timestamp\", \"up_down_ratio\"]\n",
    "features = non_empty_df[chosen_feature_names]\n",
    "labels = non_empty_df[\"resolution\"]\n",
    "\n",
    "# I perform test-train split separately below"
   ]
  },
  {
   "cell_type": "markdown",
   "metadata": {},
   "source": [
    "### Train and Tune Your Model\n",
    "\n",
    "1. Select a model of your choice.\n",
    "2. Train the model using your training data."
   ]
  },
  {
   "cell_type": "code",
   "execution_count": 201,
   "metadata": {},
   "outputs": [
    {
     "name": "stdout",
     "output_type": "stream",
     "text": [
      "Least squares classification model achieved 63.51% accuracy\n",
      "10/1618 resolution 1.0's were correct\n",
      "2723/4358 resolution 2.25's were correct\n",
      "20684/28237 resolution 4.0's were correct\n",
      "5544/9197 resolution 9.0's were correct\n",
      "1546/4621 resolution 16.0's were correct\n"
     ]
    }
   ],
   "source": [
    "def run_linear_classification(features, labels, resolutions):\n",
    "    # Corrected lambda function syntax\n",
    "    y = labels.apply(lambda x: resolutions[x])\n",
    "    X = features.values\n",
    "    \n",
    "    w = np.linalg.inv(X.T @ X) @ X.T @ y\n",
    "    y_hat = X @ w\n",
    "    \n",
    "    # y_pred = y_hat.clip(1, 4).round(0)\n",
    "    class_values = np.array(list(resolutions.values()))\n",
    "    y_pred = [class_values[np.argmin(abs(class_values - val))] for val in y_hat]\n",
    "    \n",
    "    accuracy = (y_pred == y).sum() / len(y)\n",
    "    print(f\"Least squares classification model achieved {math.floor(accuracy * 10_000) / 100}% accuracy\")\n",
    "    \n",
    "    for cls in np.unique(y):\n",
    "        total = np.sum(y == cls)\n",
    "        correct = np.sum((y == cls) & (y_pred == cls))\n",
    "        print(f\"{int(correct)}/{int(total)} resolution {cls}'s were correct\")\n",
    "\n",
    "    return y_hat, y\n",
    "\n",
    "y_hat, y = run_linear_classification(features, labels, {\n",
    "    240.0: 1,\n",
    "    360.0: 2.25,\n",
    "    480.0: 4,\n",
    "    720.0: 9,\n",
    "    1080.0: 16\n",
    "}) # No train / test split, since I was trying to determine if this construction of features sufficiently predicted resolution"
   ]
  },
  {
   "cell_type": "code",
   "execution_count": 199,
   "metadata": {},
   "outputs": [
    {
     "data": {
      "image/png": "[encoded data removed]",
      "text/plain": [
       "<Figure size 800x500 with 1 Axes>"
      ]
     },
     "metadata": {},
     "output_type": "display_data"
    }
   ],
   "source": [
    "import matplotlib.pyplot as plt\n",
    "\n",
    "def plot_yhat_by_class(y_hat, y):\n",
    "    plt.figure(figsize=(8, 5))\n",
    "    unique_classes = np.unique(y)\n",
    "    colors = plt.cm.viridis(np.linspace(0, 1, len(unique_classes)))\n",
    "\n",
    "    for cls, color in zip(unique_classes, colors):\n",
    "        plt.hist(\n",
    "            y_hat[y == cls],\n",
    "            bins=50,\n",
    "            alpha=0.5,\n",
    "            color=color,\n",
    "            label=f\"resolution {cls}\"\n",
    "        )\n",
    "\n",
    "    plt.title(\"Distribution of predicted y_hat values by actual resolution\")\n",
    "    plt.xlabel(\"Predicted y_hat\")\n",
    "    plt.ylabel(\"Count\")\n",
    "    plt.legend()\n",
    "    plt.tight_layout()\n",
    "    plt.show()\n",
    "\n",
    "plot_yhat_by_class(y_hat, y)\n"
   ]
  },
  {
   "cell_type": "markdown",
   "metadata": {},
   "source": [
    "<span style=\"color: green\">\n",
    "I considered a number of variations in my choice of features (including non-linear data transformations, including exponentiating the output classes – see below). However, I ultimately decided that this data (a proxy of the backdwidth consumed per second) doesn't fully predict resolution. As graphed above, the distributions are not significantly separated on this spectrum: 240p and 360p almost completely overlap. Many of the bumps down to 240p or 360p may be explained by temporary network congestion: these events won't heavily affect total bandwidth, and therefore are insufficient for high accuracies.\n",
    "</span>"
   ]
  },
  {
   "cell_type": "markdown",
   "metadata": {},
   "source": [
    "### Prepare data for random forest classification\n",
    "<span style=\"color: green;\">\n",
    "\n",
    "After determining that the linear classifier didn't work in practice, I moved on to trying a random forest classifier. Since I landed on this model as my final choice, I performed train/test splitting, as expected\n",
    "</span>"
   ]
  },
  {
   "cell_type": "code",
   "execution_count": 327,
   "metadata": {},
   "outputs": [],
   "source": [
    "chosen_feature_names = [\"avg_flow_age\", \"bitrate\", \"current_chunk_iat\", \"n_chunks_up\", \"n_chunks_down\", \"previous_bitrate\", \"total_throughput_up\", \"total_throughput_down\", \"relative_timestamp\", \"up_down_ratio\", \"userAvgBytesInFlight\", \"parallel_flows\"]\n",
    "features = non_empty_df[chosen_feature_names]\n",
    "labels = non_empty_df[\"resolution\"]"
   ]
  },
  {
   "cell_type": "code",
   "execution_count": 330,
   "metadata": {},
   "outputs": [
    {
     "name": "stdout",
     "output_type": "stream",
     "text": [
      "RandomForest Accuracy: 0.9393\n",
      "910/924 1080p samples correct\n",
      "159/324 240p samples correct\n",
      "697/872 360p samples correct\n",
      "5556/5648 480p samples correct\n",
      "1702/1839 720p samples correct\n"
     ]
    }
   ],
   "source": [
    "def run_random_forest(features, labels, parameter_args):\n",
    "    # Define features (X) and labels (y)\n",
    "    X = features\n",
    "    y = labels.apply(lambda x: f\"{int(x)}p\")\n",
    "    \n",
    "    # Split into training and testing sets\n",
    "    X_train, X_test, y_train, y_test = train_test_split(\n",
    "        X, y, test_size=0.2, random_state=42, stratify=y\n",
    "    )\n",
    "    \n",
    "    # Train model\n",
    "    model = RandomForestClassifier(**parameter_args)\n",
    "    model.fit(X_train, y_train)\n",
    "    \n",
    "    # Evaluate on test set\n",
    "    y_pred = model.predict(X_test)\n",
    "    accuracy = accuracy_score(y_test, y_pred)\n",
    "    \n",
    "    print(f\"RandomForest Accuracy: {accuracy:.4f}\")\n",
    "    \n",
    "    for cls in sorted(y.unique()):\n",
    "        total = (y_test == cls).sum()\n",
    "        correct = ((y_test == cls) & (y_pred == cls)).sum()\n",
    "        print(f\"{int(correct)}/{int(total)} {cls} samples correct\")\n",
    "\n",
    "    return model, X_test, y_test, y_pred\n",
    "\n",
    "model, X_test, y_test, y_pred = run_random_forest(features, labels, {})"
   ]
  },
  {
   "cell_type": "markdown",
   "metadata": {},
   "source": [
    "### Tune Your Model\n",
    "\n",
    "Perform hyperparameter tuning to find optimal parameters for your model."
   ]
  },
  {
   "cell_type": "code",
   "execution_count": 331,
   "metadata": {},
   "outputs": [
    {
     "name": "stdout",
     "output_type": "stream",
     "text": [
      "RandomForest Accuracy: 0.9371\n",
      "907/924 1080p samples correct\n",
      "162/324 240p samples correct\n",
      "703/872 360p samples correct\n",
      "5536/5648 480p samples correct\n",
      "1695/1839 720p samples correct\n"
     ]
    }
   ],
   "source": [
    "# I used https://www.geeksforgeeks.org/machine-learning/hyperparameters-of-random-forest-classifier/#\n",
    "# as a reference.\n",
    "parameters = {\n",
    "    \"min_samples_leaf\": 1,\n",
    "    \"n_estimators\": 30, # while more marginally increases accuracy, it significantly increases runtime\n",
    "    \"max_features\": \"sqrt\",\n",
    "    # \"min_samples_split\": 5, # non-default values decreased accuracy\n",
    "    \"max_depth\": 25,\n",
    "}\n",
    "\n",
    "model, X_test, y_test, y_pred = run_random_forest(features, labels, parameters)"
   ]
  },
  {
   "cell_type": "markdown",
   "metadata": {},
   "source": [
    "<span style=\"color: green\">\n",
    "Although accuracy remainded roughly the same after my hyperparameter tuning, the training speed increased dramatically. This would help with real-time packet analysis.\n",
    "</span>"
   ]
  },
  {
   "cell_type": "markdown",
   "metadata": {},
   "source": [
    "### Evaluate Your Model\n",
    "\n",
    "Evaluate your model accuracy according to the following metrics:\n",
    "\n",
    "1. Accuracy\n",
    "2. F1 Score\n",
    "3. Confusion Matrix\n",
    "4. ROC/AUC"
   ]
  },
  {
   "cell_type": "code",
   "execution_count": 343,
   "metadata": {},
   "outputs": [
    {
     "name": "stdout",
     "output_type": "stream",
     "text": [
      "Final model achieved 93.71291766420319% accuracy\n",
      "The model had an f1 score of 0.9345420259444714, which is quite good\n",
      "Similar to the linear model case, there appeared to be significant misclassifications among resolutions 240-480p\n",
      "Plotting the ROC/AUC curve for a multi-classification model requires additional technical model; many solutions recommend retraining with another class\n",
      "Since we haven't covered this in class, I don't believe that I have the domain knowledge required to audit any code that I find via forums or an LLM\n",
      "Instead, I've defaulted to just finding the raw score\n",
      "0.9946564066924545\n"
     ]
    },
    {
     "data": {
      "image/png": "[encoded data removed]",
      "text/plain": [
       "<Figure size 640x480 with 2 Axes>"
      ]
     },
     "metadata": {},
     "output_type": "display_data"
    }
   ],
   "source": [
    "print(f\"Final model achieved {accuracy_score(y_test, y_pred) * 100}% accuracy\")\n",
    "print(f\"The model had an f1 score of {f1_score(y_test, y_pred, average='weighted')}, which is quite good\")\n",
    "print(\"Similar to the linear model case, there appeared to be significant misclassifications among resolutions 240-480p\")\n",
    "ConfusionMatrixDisplay(\n",
    "    confusion_matrix=confusion_matrix(y_test, y_pred, normalize='true'),\n",
    "    display_labels=model.classes_).plot()\n",
    "\n",
    "print(\"Plotting the ROC/AUC curve for a multi-classification model requires additional technical model; many solutions recommend retraining with another class\")\n",
    "print(\"Since we haven't covered this in class, I don't believe that I have the domain knowledge required to audit any code that I find via forums or an LLM\")\n",
    "print(\"Instead, I've defaulted to just finding the raw score\")\n",
    "\n",
    "from sklearn.metrics import roc_auc_score\n",
    "from sklearn.preprocessing import LabelBinarizer\n",
    "\n",
    "lb = LabelBinarizer()\n",
    "y_test_bin = lb.fit_transform(y_test)\n",
    "y_score = model.predict_proba(X_test)  # list of arrays if multi-class\n",
    "micro_roc_auc_ovr = roc_auc_score(\n",
    "    y_test_bin,      # one-hot encoded true labels\n",
    "    y_score,         # predicted probabilities\n",
    "    multi_class=\"ovr\",\n",
    "    average=\"micro\"\n",
    ")\n",
    "print(f\"The roc_auc_score of the model is {micro_roc_auc_ovr}.\")\n",
    "\"\"\"To be candid, I'm not sure how this is implemented. I have a general sense of the restrictions on the classification methods\n",
    "required to apply this model (especially that discrete outputs are incompatible with the metric). The snippet above was generated by\n",
    "ChatGPT to fix the runtime error caused by:\n",
    "\n",
    "\n",
    "micro_roc_auc_ovr = roc_auc_score(\n",
    "    y_test,\n",
    "    y_pred,\n",
    "    multi_class=\"ovr\",\n",
    "    average=\"micro\",\n",
    ")\n",
    "\n",
    "This matches what several online forum posts have said. I lack the technical background to verify this answer or interpret its meaning.\n",
    "\"\"\""
   ]
  },
  {
   "cell_type": "markdown",
   "metadata": {},
   "source": [
    "## Part 3: Predict the Ongoing Resolution of a Real Netflix Session\n",
    "\n",
    "Now that you have your model, it's time to put it in practice!\n",
    "\n",
    "Use a preprocessed Netflix video session to infer **and plot** the resolution at 10-second time intervals."
   ]
  },
  {
   "cell_type": "code",
   "execution_count": 293,
   "metadata": {},
   "outputs": [
    {
     "data": {
      "image/png": "[encoded data removed]",
      "text/plain": [
       "<Figure size 1000x500 with 1 Axes>"
      ]
     },
     "metadata": {},
     "output_type": "display_data"
    }
   ],
   "source": [
    "session = random.sample(list(labeled_ds[\"session_id\"]), 1)[0]\n",
    "selected_packets = labeled_ds[labeled_ds[\"session_id\"] == session]\n",
    "selected_packet_features = selected_packets[chosen_feature_names]\n",
    "\n",
    "predictions = model.predict(selected_packet_features)\n",
    "\n",
    "# Map resolutions from strings like \"720p\" → 720 (int)\n",
    "y_true = selected_packets[\"resolution\"]\n",
    "y_pred = [int(str(p).rstrip(\"p\")) for p in predictions]\n",
    "\n",
    "# Plot the lines\n",
    "plt.figure(figsize=(10, 5))\n",
    "plt.plot(selected_packet_features[\"relative_timestamp\"], y_true, label=\"True Resolution\", linewidth=2)\n",
    "plt.plot(selected_packet_features[\"relative_timestamp\"], y_pred, label=\"Predicted Resolution\", linewidth=2, linestyle=\"--\")\n",
    "\n",
    "# Style\n",
    "plt.xlabel(\"Time\")\n",
    "plt.ylabel(\"Resolution (p)\")\n",
    "plt.title(\"True vs Predicted Resolution over Time\")\n",
    "plt.legend()\n",
    "plt.grid(True)\n",
    "plt.show()\n"
   ]
  },
  {
   "cell_type": "code",
   "execution_count": null,
   "metadata": {},
   "outputs": [],
   "source": []
  }
 ],
 "metadata": {
  "colab": {
   "authorship_tag": "ABX9TyM0Cd1i3qtplCsVAB9qTjxA",
   "collapsed_sections": [],
   "name": "pcap_processing_solution.ipynb",
   "provenance": []
  },
  "kernelspec": {
   "display_name": "Python 3 (ipykernel)",
   "language": "python",
   "name": "python3"
  },
  "language_info": {
   "codemirror_mode": {
    "name": "ipython",
    "version": 3
   },
   "file_extension": ".py",
   "mimetype": "text/x-python",
   "name": "python",
   "nbconvert_exporter": "python",
   "pygments_lexer": "ipython3",
   "version": "3.10.18"
  }
 },
 "nbformat": 4,
 "nbformat_minor": 4
}
